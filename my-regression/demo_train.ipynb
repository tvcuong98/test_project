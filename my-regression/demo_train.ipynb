{
 "cells": [
  {
   "cell_type": "code",
   "execution_count": null,
   "metadata": {},
   "outputs": [],
   "source": [
    "# Evaluation\n",
    "from sklearn.metrics import mean_squared_error, r2_score, mean_absolute_error\n",
    "import xgboost as xgb\n",
    "import time\n",
    "n_folds = 5\n",
    "early_stopping = 50\n",
    "\n",
    "\n",
    "start_time = time.time()\n",
    "xg_train = xgb.DMatrix(X_train, label=y_train)\n",
    "\n",
    "num_iters = 300\n",
    "\n",
    "params = {\"objective\":\"reg:linear\", \n",
    "          'booster': 'gbtree', \n",
    "          'eval_metric': 'mae',\n",
    "          'subsample': 0.9,\n",
    "          'colsample_bytree':0.2,\n",
    "          'learning_rate': 0.05,\n",
    "          'max_depth': 6, \n",
    "          'reg_lambda': .9, \n",
    "          'reg_alpha': .01,\n",
    "          'seed': rand_state}\n",
    "\n",
    "\n",
    "\n",
    "cv = xgb.cv(params,\n",
    "            xg_train, \n",
    "            num_boost_round=num_iters, \n",
    "            nfold=n_folds, \n",
    "            early_stopping_rounds=early_stopping, \n",
    "            verbose_eval = 0, \n",
    "            seed=rand_state,\n",
    "            as_pandas=False)\n",
    "\n",
    "print(\"--- %s seconds ---\" % (time.time() - start_time))\n",
    "\n",
    "plt.figure(figsize=(8,8))\n",
    "plt.plot(cv['train-mae-mean'][100:], label='Train loss: ' + str(np.min(cv['train-mae-mean'])))\n",
    "plt.plot(cv['test-mae-mean'][100:], label='Test loss: ' + str(np.min(cv['test-mae-mean'])))\n",
    "plt.legend()\n",
    "plt.xlabel('Epoch')\n",
    "plt.ylabel('Mean absolute error')\n",
    "plt.show()"
   ]
  }
 ],
 "metadata": {
  "language_info": {
   "name": "python"
  }
 },
 "nbformat": 4,
 "nbformat_minor": 2
}
